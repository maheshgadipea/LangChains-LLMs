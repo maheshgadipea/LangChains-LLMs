{
 "cells": [
  {
   "cell_type": "code",
   "execution_count": 1,
   "id": "c1a34a21",
   "metadata": {},
   "outputs": [
    {
     "name": "stdout",
     "output_type": "stream",
     "text": [
      "Filesystem                                                                                Size  Used Avail Use% Mounted on\r\n",
      "overlay                                                                                   124G   54G   71G  43% /\r\n",
      "tmpfs                                                                                      64M     0   64M   0% /dev\r\n",
      "//ff285dc80af4a49f49c4553.file.core.windows.net/pvc-768e2aae-2155-4058-b5b9-29380754af55  1.5T  1.1T  428G  72% /data\r\n",
      "/dev/root                                                                                 124G   54G   71G  43% /git\r\n",
      "//ff285dc80af4a49f49c4553.file.core.windows.net/pvc-dc139e31-99fb-4ced-af1e-0c9f7ffa1b89  500G  330G  171G  66% /packages\r\n",
      "//ff285dc80af4a49f49c4553.file.core.windows.net/pvc-1de69c15-dd71-4271-9505-022dfef5a50b  500G  500G  576M 100% /llmmodels\r\n",
      "shm                                                                                        64M     0   64M   0% /dev/shm\r\n",
      "tmpfs                                                                                      24G   12K   24G   1% /run/secrets/kubernetes.io/serviceaccount\r\n",
      "tmpfs                                                                                      14G   12K   14G   1% /proc/driver/nvidia\r\n",
      "tmpfs                                                                                     5.5G   99M  5.4G   2% /run/nvidia-persistenced/socket\r\n",
      "devtmpfs                                                                                   14G     0   14G   0% /dev/nvidia0\r\n",
      "tmpfs                                                                                      14G     0   14G   0% /proc/acpi\r\n",
      "tmpfs                                                                                      14G     0   14G   0% /proc/scsi\r\n",
      "tmpfs                                                                                      14G     0   14G   0% /sys/firmware\r\n"
     ]
    }
   ],
   "source": [
    "llm = "
   ]
  },
  {
   "cell_type": "code",
   "execution_count": null,
   "id": "c45f517a",
   "metadata": {},
   "outputs": [],
   "source": []
  }
 ],
 "metadata": {
  "kernelspec": {
   "display_name": "Python 3",
   "language": "python",
   "name": "python3"
  },
  "language_info": {
   "codemirror_mode": {
    "name": "ipython",
    "version": 3
   },
   "file_extension": ".py",
   "mimetype": "text/x-python",
   "name": "python",
   "nbconvert_exporter": "python",
   "pygments_lexer": "ipython3",
   "version": "3.8.16"
  }
 },
 "nbformat": 4,
 "nbformat_minor": 5
}

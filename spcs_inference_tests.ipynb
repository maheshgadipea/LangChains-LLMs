{
 "cells": [
  {
   "cell_type": "code",
   "execution_count": 2,
   "id": "5c250030",
   "metadata": {},
   "outputs": [],
   "source": [
    "import requests\n",
    "import snowflake.connector\n",
    "\n",
    "ctx = snowflake.connector.connect(\n",
    "   user=\"MAHESHG\",\n",
    "   password=\"Jamesbond@123\",\n",
    "   account=\"RWB76633\",\n",
    "   session_parameters={\n",
    "      'PYTHON_CONNECTOR_QUERY_RESULT_FORMAT': 'json'\n",
    "   },\n",
    "   database=\"NVIDIA_DB\",\n",
    "   schema=\"NVIDIA_SCHEMA\",\n",
    "   role='MAHESHG',\n",
    "   )"
   ]
  },
  {
   "cell_type": "code",
   "execution_count": 8,
   "id": "f0e0e3cc",
   "metadata": {},
   "outputs": [],
   "source": [
    "url = 'https://gowioc6v-zqiseam-ltifosforscsaws.snowflakecomputing.app/spcs/generate'\n",
    "payload = {\"text_input\": \"What is meaning of life?\", \"max_tokens\": 100, \"bad_words\": \"\", \"stop_words\": \"\"}"
   ]
  },
  {
   "cell_type": "code",
   "execution_count": 9,
   "id": "7af6f9ae",
   "metadata": {},
   "outputs": [
    {
     "name": "stdout",
     "output_type": "stream",
     "text": [
      "{'Authorization': 'Snowflake Token=\"ver:1-hint:14544919633915910-ETMsDgAAAZAp0wllABRBRVMvQ0JDL1BLQ1M1UGFkZGluZwEAABAAEIJ1QXPoRg+C8ZdvbOMh7eoAAACA//2g/C9sC3me82vJPfQKDFlIYH60n73olmTYykuzgQzjLXVmNHqPdBjb+v71It8RvFMh+EaD0dUzP7PlI9FuCCRf/m3regCQkowYndaKkHDX97E4y+yRFXf5XL4HqajNH7EVdwx/HptXqzU6neFhAs/Wvzhtu+tb7Yd30vHAli8AFLVXz1BDGpSpJgESOLDAMPYcTcTg\"'}\n"
     ]
    }
   ],
   "source": [
    "\n",
    "# Obtain a session token.\n",
    "token_data = ctx._rest._token_request('ISSUE')\n",
    "token_extract = token_data['data']['sessionToken']\n",
    "\n",
    "token = f'\\\"{token_extract}\\\"'\n",
    "\n",
    "# print(token)\n",
    "\n",
    "headers = {'Authorization': f'Snowflake Token={token}'}\n",
    "\n",
    "print(headers)"
   ]
  },
  {
   "cell_type": "code",
   "execution_count": 10,
   "id": "ef3d6098",
   "metadata": {},
   "outputs": [
    {
     "name": "stderr",
     "output_type": "stream",
     "text": [
      "/tmp/pip_packages/urllib3/connectionpool.py:1063: InsecureRequestWarning: Unverified HTTPS request is being made to host 'gowioc6v-zqiseam-ltifosforscsaws.snowflakecomputing.app'. Adding certificate verification is strongly advised. See: https://urllib3.readthedocs.io/en/1.26.x/advanced-usage.html#ssl-warnings\n",
      "  warnings.warn(\n"
     ]
    },
    {
     "name": "stdout",
     "output_type": "stream",
     "text": [
      "null\n",
      "200\n"
     ]
    }
   ],
   "source": [
    "response = requests.request(\"POST\",url, headers=headers,json=payload,verify=False)\n",
    "print(response.text)\n",
    "print(response.status_code)"
   ]
  },
  {
   "cell_type": "code",
   "execution_count": null,
   "id": "90c47f1d",
   "metadata": {},
   "outputs": [],
   "source": []
  },
  {
   "cell_type": "code",
   "execution_count": null,
   "id": "d426ad6d",
   "metadata": {},
   "outputs": [],
   "source": []
  }
 ],
 "metadata": {
  "kernelspec": {
   "display_name": "Python 3",
   "language": "python",
   "name": "python3"
  },
  "language_info": {
   "codemirror_mode": {
    "name": "ipython",
    "version": 3
   },
   "file_extension": ".py",
   "mimetype": "text/x-python",
   "name": "python",
   "nbconvert_exporter": "python",
   "pygments_lexer": "ipython3",
   "version": "3.8.16"
  }
 },
 "nbformat": 4,
 "nbformat_minor": 5
}

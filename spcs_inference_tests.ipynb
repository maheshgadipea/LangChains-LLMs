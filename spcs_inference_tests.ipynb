{
 "cells": [
  {
   "cell_type": "code",
   "execution_count": 2,
   "id": "7628a83e",
   "metadata": {},
   "outputs": [
    {
     "name": "stdout",
     "output_type": "stream",
     "text": [
      "\u001b[31mERROR: Could not find a version that satisfies the requirement snowflake-snowpark-connector (from versions: none)\u001b[0m\r\n",
      "\u001b[31mERROR: No matching distribution found for snowflake-snowpark-connector\u001b[0m\r\n"
     ]
    }
   ],
   "source": [
    "# import requests\n",
    "!pip install snowflake-snowpark-connector"
   ]
  },
  {
   "cell_type": "code",
   "execution_count": null,
   "id": "3abc727a",
   "metadata": {},
   "outputs": [],
   "source": [
    "url = \"http://gowioc6v-zqiseam-ltifosforscsaws.snowflakecomputing.app\""
   ]
  }
 ],
 "metadata": {
  "kernelspec": {
   "display_name": "Python 3",
   "language": "python",
   "name": "python3"
  },
  "language_info": {
   "codemirror_mode": {
    "name": "ipython",
    "version": 3
   },
   "file_extension": ".py",
   "mimetype": "text/x-python",
   "name": "python",
   "nbconvert_exporter": "python",
   "pygments_lexer": "ipython3",
   "version": "3.8.16"
  }
 },
 "nbformat": 4,
 "nbformat_minor": 5
}

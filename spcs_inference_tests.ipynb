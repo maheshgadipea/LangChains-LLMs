{
 "cells": [
  {
   "cell_type": "code",
   "execution_count": 2,
   "id": "8a0d972d",
   "metadata": {},
   "outputs": [],
   "source": [
    "import requests\n",
    "import snowflake.connector\n",
    "\n",
    "ctx = snowflake.connector.connect(\n",
    "   user=\"MAHESHG\",\n",
    "   password=\"Jamesbond@123\",\n",
    "   account=\"RWB76633\",\n",
    "   session_parameters={\n",
    "      'PYTHON_CONNECTOR_QUERY_RESULT_FORMAT': 'json'\n",
    "   },\n",
    "   database=\"NVIDIA_DB\",\n",
    "   schema=\"NVIDIA_SCHEMA\",\n",
    "   role='MAHESHG',\n",
    "   )"
   ]
  },
  {
   "cell_type": "code",
   "execution_count": null,
   "id": "d4782f66",
   "metadata": {},
   "outputs": [],
   "source": [
    "url = 'http://gowioc4z-zqiseam-ltifosforscsaws.snowflakecomputing.app/spcs/generate'\n",
    "payload = {\"text_input\": \"What is meaning of life?\", \"max_tokens\": 100, \"bad_words\": \"\", \"stop_words\": \"\"}"
   ]
  },
  {
   "cell_type": "code",
   "execution_count": 3,
   "id": "2e709a63",
   "metadata": {},
   "outputs": [
    {
     "name": "stdout",
     "output_type": "stream",
     "text": [
      "{'Authorization': 'Snowflake Token=\"ver:1-hint:14544919633915910-ETMsDgAAAZAp0mrJABRBRVMvQ0JDL1BLQ1M1UGFkZGluZwEAABAAEBzBcKbjUxNDLgxnGZIYFGsAAACAOWX3LQ72Cr4QWUKgnzVYQq2JLvwtDL0s5AMTFQNuM3e7AtoqGy5iMj1K2NcQlzMUX6U6vqjW3GVNIbQZtGV1Rwmk5VgD3QFfdLjFiHigbj3vPMhNcTQknLdW/Uka6/NEBu+jhnE866qk/uB95ujzVBBkmN3V/ZVCqv4M36eSVckAFG84VPb3ln1sCkT+Iu9uRpff8Sbl\"'}\n"
     ]
    }
   ],
   "source": [
    "\n",
    "# Obtain a session token.\n",
    "token_data = ctx._rest._token_request('ISSUE')\n",
    "token_extract = token_data['data']['sessionToken']\n",
    "\n",
    "token = f'\\\"{token_extract}\\\"'\n",
    "\n",
    "# print(token)\n",
    "\n",
    "headers = {'Authorization': f'Snowflake Token={token}'}\n",
    "\n",
    "print(headers)"
   ]
  },
  {
   "cell_type": "code",
   "execution_count": 4,
   "id": "f0346769",
   "metadata": {},
   "outputs": [
    {
     "ename": "NameError",
     "evalue": "name 'url' is not defined",
     "output_type": "error",
     "traceback": [
      "\u001b[0;31m---------------------------------------------------------------------------\u001b[0m",
      "\u001b[0;31mNameError\u001b[0m                                 Traceback (most recent call last)",
      "Cell \u001b[0;32mIn[4], line 1\u001b[0m\n\u001b[0;32m----> 1\u001b[0m response \u001b[38;5;241m=\u001b[39m requests\u001b[38;5;241m.\u001b[39mrequest(\u001b[38;5;124m\"\u001b[39m\u001b[38;5;124mPOST\u001b[39m\u001b[38;5;124m\"\u001b[39m,\u001b[43murl\u001b[49m, headers\u001b[38;5;241m=\u001b[39mheaders,json\u001b[38;5;241m=\u001b[39mpayload,verify\u001b[38;5;241m=\u001b[39m\u001b[38;5;28;01mFalse\u001b[39;00m)\n\u001b[1;32m      2\u001b[0m \u001b[38;5;28mprint\u001b[39m(response\u001b[38;5;241m.\u001b[39mtext)\n\u001b[1;32m      3\u001b[0m \u001b[38;5;28mprint\u001b[39m(response\u001b[38;5;241m.\u001b[39mstatus_code)\n",
      "\u001b[0;31mNameError\u001b[0m: name 'url' is not defined"
     ]
    }
   ],
   "source": [
    "response = requests.request(\"POST\",url, headers=headers,json=payload,verify=False)\n",
    "print(response.text)\n",
    "print(response.status_code)"
   ]
  },
  {
   "cell_type": "code",
   "execution_count": null,
   "id": "1bb99c62",
   "metadata": {},
   "outputs": [],
   "source": []
  }
 ],
 "metadata": {
  "kernelspec": {
   "display_name": "Python 3",
   "language": "python",
   "name": "python3"
  },
  "language_info": {
   "codemirror_mode": {
    "name": "ipython",
    "version": 3
   },
   "file_extension": ".py",
   "mimetype": "text/x-python",
   "name": "python",
   "nbconvert_exporter": "python",
   "pygments_lexer": "ipython3",
   "version": "3.8.16"
  }
 },
 "nbformat": 4,
 "nbformat_minor": 5
}

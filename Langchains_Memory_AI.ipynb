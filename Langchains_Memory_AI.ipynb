{
 "cells": [
  {
   "cell_type": "markdown",
   "id": "f16ca67f",
   "metadata": {},
   "source": [
    "### Memory"
   ]
  },
  {
   "cell_type": "code",
   "execution_count": 5,
   "id": "61f52a62",
   "metadata": {},
   "outputs": [],
   "source": [
    "## CoversationBufferMemory\n",
    "## ConversationSummaryMemory\n",
    "## ConversationBufferWindowMemory\n",
    "## CoversationSummaryBufferMemory\n",
    "## CoversationKnowledgeGraphMemory\n",
    "## Entitiy Memory\n",
    "## Custom Memory"
   ]
  },
  {
   "cell_type": "code",
   "execution_count": null,
   "id": "a9d9a54e",
   "metadata": {},
   "outputs": [
    {
     "name": "stdout",
     "output_type": "stream",
     "text": [
      "Collecting langchain\n",
      "\u001b[?25l  Downloading https://files.pythonhosted.org/packages/4c/e3/38d4c5969d91e8e4f2ada469d82322d8b9f5d218613c4a18c11be2bda648/langchain-0.2.5-py3-none-any.whl (974kB)\n",
      "\u001b[K     |████████████████████████████████| 983kB 6.4MB/s eta 0:00:01\n",
      "\u001b[?25hCollecting langchain-core<0.3.0,>=0.2.7\n",
      "\u001b[?25l  Downloading https://files.pythonhosted.org/packages/98/5d/e69571aca7876484f29d17349072761837e8d597e5cbe61623748ff81696/langchain_core-0.2.9-py3-none-any.whl (321kB)\n",
      "\u001b[K     |████████████████████████████████| 327kB 35.8MB/s eta 0:00:01\n",
      "\u001b[?25hCollecting langchain-text-splitters<0.3.0,>=0.2.0\n",
      "  Downloading https://files.pythonhosted.org/packages/a9/d9/31b1b5415be5201ec1ba34ab04f47a92c69174d7817d70b51693fb60e780/langchain_text_splitters-0.2.1-py3-none-any.whl\n",
      "Collecting numpy<2,>=1; python_version < \"3.12\"\n",
      "\u001b[?25l  Downloading https://files.pythonhosted.org/packages/98/5d/5738903efe0ecb73e51eb44feafba32bdba2081263d40c5043568ff60faf/numpy-1.24.4-cp38-cp38-manylinux_2_17_x86_64.manylinux2014_x86_64.whl (17.3MB)\n",
      "\u001b[K     |████████████████████████████████| 17.3MB 19.5MB/s eta 0:00:01\n",
      "\u001b[?25hCollecting PyYAML>=5.3\n",
      "  Using cached https://files.pythonhosted.org/packages/c8/6b/6600ac24725c7388255b2f5add93f91e58a5d7efaf4af244fdbcc11a541b/PyYAML-6.0.1-cp38-cp38-manylinux_2_17_x86_64.manylinux2014_x86_64.whl\n",
      "Collecting aiohttp<4.0.0,>=3.8.3\n",
      "\u001b[?25l  Downloading https://files.pythonhosted.org/packages/bf/85/6166b71dc124cbca726f1d062218a61f2541d7c5192bef8c9b518b787132/aiohttp-3.9.5-cp38-cp38-manylinux_2_17_x86_64.manylinux2014_x86_64.whl (1.3MB)\n",
      "\u001b[K     |████████████████████████████████| 1.3MB 75.2MB/s eta 0:00:01\n",
      "\u001b[?25hCollecting pydantic<3,>=1\n",
      "\u001b[?25l  Downloading https://files.pythonhosted.org/packages/17/ba/1b65c9cbc49e0c7cd1be086c63209e9ad883c2a409be4746c21db4263f41/pydantic-2.7.4-py3-none-any.whl (409kB)\n",
      "\u001b[K     |████████████████████████████████| 409kB 77.4MB/s eta 0:00:01\n"
     ]
    }
   ],
   "source": [
    "!pip install langchain"
   ]
  }
 ],
 "metadata": {
  "kernelspec": {
   "display_name": "Python 3",
   "language": "python",
   "name": "python3"
  },
  "language_info": {
   "codemirror_mode": {
    "name": "ipython",
    "version": 3
   },
   "file_extension": ".py",
   "mimetype": "text/x-python",
   "name": "python",
   "nbconvert_exporter": "python",
   "pygments_lexer": "ipython3",
   "version": "3.8.16"
  }
 },
 "nbformat": 4,
 "nbformat_minor": 5
}

{
 "cells": [
  {
   "cell_type": "markdown",
   "id": "9cd98aec",
   "metadata": {},
   "source": [
    "### Memory"
   ]
  },
  {
   "cell_type": "code",
   "execution_count": 5,
   "id": "4e7c35e0",
   "metadata": {},
   "outputs": [],
   "source": [
    "## CoversationBufferMemory\n",
    "## ConversationSummaryMemory\n",
    "## ConversationBufferWindowMemory\n",
    "## CoversationSummaryBufferMemory\n",
    "## CoversationKnowledgeGraphMemory\n",
    "## Entitiy Memory\n",
    "## Custom Memory"
   ]
  },
  {
   "cell_type": "code",
   "execution_count": 3,
   "id": "1c731817",
   "metadata": {},
   "outputs": [],
   "source": [
    "# !pip install langchain\n",
    "# !pip install openai"
   ]
  },
  {
   "cell_type": "code",
   "execution_count": 1,
   "id": "4116d45d",
   "metadata": {},
   "outputs": [],
   "source": [
    "from openai import AzureOpenAI"
   ]
  },
  {
   "cell_type": "code",
   "execution_count": 2,
   "id": "e4df329b",
   "metadata": {},
   "outputs": [],
   "source": [
    "llm = AzureOpenAI(\n",
    "        azure_endpoint=\"https://refract-openai.openai.azure.com/\",\n",
    "        api_key=\"840a080abe584b299d700c777616e216\",\n",
    "        api_version=\"2023-03-15-preview\"\n",
    "    )"
   ]
  },
  {
   "cell_type": "code",
   "execution_count": null,
   "id": "e690ee85",
   "metadata": {},
   "outputs": [],
   "source": [
    "from langchain.ch"
   ]
  }
 ],
 "metadata": {
  "kernelspec": {
   "display_name": "Python 3",
   "language": "python",
   "name": "python3"
  },
  "language_info": {
   "codemirror_mode": {
    "name": "ipython",
    "version": 3
   },
   "file_extension": ".py",
   "mimetype": "text/x-python",
   "name": "python",
   "nbconvert_exporter": "python",
   "pygments_lexer": "ipython3",
   "version": "3.8.16"
  }
 },
 "nbformat": 4,
 "nbformat_minor": 5
}
